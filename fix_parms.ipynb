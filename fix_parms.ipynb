{
 "cells": [
  {
   "cell_type": "code",
   "execution_count": 3,
   "metadata": {},
   "outputs": [
    {
     "name": "stdout",
     "output_type": "stream",
     "text": [
      "Arquivo data/31.4/parms.json criado com sucesso.\n"
     ]
    }
   ],
   "source": [
    "import json\n",
    "import os\n",
    "\n",
    "# Caminho para o arquivo de entrada e saída\n",
    "input_path = 'data/31.4/parms.txt'\n",
    "output_path = 'data/31.4/parms.json'\n",
    "\n",
    "# Lendo o arquivo txt e construindo o dicionário\n",
    "params = {}\n",
    "with open(input_path, 'r') as file:\n",
    "    for line in file:\n",
    "        key, value = line.strip().split(': ', 1)\n",
    "        # Tenta converter o valor para um tipo mais específico, se possível\n",
    "        try:\n",
    "            # Avalia expressões como tuplas\n",
    "            if '(' in value and ')' in value:\n",
    "                value = eval(value)\n",
    "            # Converte para float se o valor for numérico e contém ponto decimal\n",
    "            elif value.replace('.', '', 1).isdigit():\n",
    "                value = float(value)\n",
    "            # Converte para int se o valor for numérico sem ponto decimal\n",
    "            elif value.isdigit():\n",
    "                value = int(value)\n",
    "        except:\n",
    "            pass  # Se a conversão falhar, mantém o valor como string\n",
    "        params[key] = value\n",
    "\n",
    "# Salvando o dicionário como JSON\n",
    "with open(output_path, 'w') as json_file:\n",
    "    json.dump(params, json_file, indent=4)\n",
    "\n",
    "print(f'Arquivo {output_path} criado com sucesso.')\n"
   ]
  },
  {
   "cell_type": "code",
   "execution_count": 4,
   "metadata": {},
   "outputs": [
    {
     "data": {
      "text/plain": [
       "{'slider_bales_before': '28',\n",
       " 'slider_mic': '(3.5, 4.8)',\n",
       " 'slider_uhm': '1.11',\n",
       " 'option_res': 'abaixo',\n",
       " 'option_uhm': 'acima'}"
      ]
     },
     "execution_count": 4,
     "metadata": {},
     "output_type": "execute_result"
    }
   ],
   "source": [
    "## lendo parms.txt antigo\n",
    "def carrega_parms(folder_path):\n",
    "    with open(os.path.join(folder_path,'parms.txt'), 'r') as f:\n",
    "        params = {}\n",
    "        for line in f:\n",
    "            key, value = line.strip().split(': ')\n",
    "            params[key] = value\n",
    "    return params\n",
    "params = carrega_parms('data/31.4/')\n",
    "\n",
    "params"
   ]
  },
  {
   "cell_type": "code",
   "execution_count": null,
   "metadata": {},
   "outputs": [],
   "source": [
    "## nova escrita do arquivo parms.json\n",
    "{\n",
    "    \"slider_bales_before\": 28.0,\n",
    "    \"slider_mic\": [\n",
    "        3.5,\n",
    "        4.8\n",
    "    ],\n",
    "    \"slider_uhm\": 1.11,\n",
    "    \"option_res\": \"abaixo\",\n",
    "    \"option_uhm\": \"acima\"\n",
    "}"
   ]
  },
  {
   "cell_type": "code",
   "execution_count": 27,
   "metadata": {},
   "outputs": [
    {
     "data": {
      "text/plain": [
       "{'slider_bales_before': 28.0,\n",
       " 'slider_mic': [3.5, 4.8],\n",
       " 'slider_uhm': 1.11,\n",
       " 'option_res': 'abaixo',\n",
       " 'option_uhm': 'acima'}"
      ]
     },
     "execution_count": 27,
     "metadata": {},
     "output_type": "execute_result"
    }
   ],
   "source": [
    "# Nova Leitura do parms.json\n",
    "import json\n",
    "\n",
    "def carrega_parms(file_path):\n",
    "    with open(file_path, 'r') as file:\n",
    "        params = json.load(file)      \n",
    "    return params\n",
    "file_path = 'data/31.4/parms.json'\n",
    "params = carrega_parms(file_path)\n",
    "# Mostrando o conteúdo do arquivo JSON\n",
    "params"
   ]
  },
  {
   "cell_type": "code",
   "execution_count": 39,
   "metadata": {},
   "outputs": [],
   "source": [
    "# Nova carregamento do parms.json\n",
    "file_path = 'data/31.4/parms.json'\n",
    "slider_bales_before = 28.0\n",
    "slider_mic = (3.5, 4.9)\n",
    "slider_uhm = 1.11\n",
    "option_res = 'acima'\n",
    "option_uhm = 'acima'\n",
    "\n",
    "def salva_parms(file_path, slider_bales_before, option_res,\n",
    "                slider_mic, slider_uhm, option_uhm):\n",
    "    # carrega os parametro no dic params\n",
    "    params['slider_bales_before'] = slider_bales_before\n",
    "    params['slider_mic'] = list(slider_mic)\n",
    "    params['slider_uhm'] = slider_uhm\n",
    "    params['option_res'] = option_res\n",
    "    params['option_uhm'] = option_uhm\n",
    "    \n",
    "    with open(file_path, 'w') as json_file:\n",
    "        json.dump(params, json_file, indent=4)\n",
    "\n",
    "salva_parms(file_path, slider_bales_before, option_res,\n",
    "                slider_mic, slider_uhm, option_uhm)\n",
    "\n",
    "# {\n",
    "#     \"slider_bales_before\": 29.0,\n",
    "#     \"slider_mic\": [\n",
    "#         3.5,\n",
    "#         4.8\n",
    "#     ],\n",
    "#     \"slider_uhm\": 1.11,\n",
    "#     \"option_res\": \"acima\",\n",
    "#     \"option_uhm\": \"acima\"\n",
    "# }"
   ]
  },
  {
   "cell_type": "code",
   "execution_count": 9,
   "metadata": {},
   "outputs": [
    {
     "data": {
      "text/plain": [
       "False"
      ]
     },
     "execution_count": 9,
     "metadata": {},
     "output_type": "execute_result"
    }
   ],
   "source": [
    "str(params.get('option_res')) == 'acima'\n"
   ]
  },
  {
   "cell_type": "code",
   "execution_count": 19,
   "metadata": {},
   "outputs": [
    {
     "data": {
      "text/plain": [
       "3.5"
      ]
     },
     "execution_count": 19,
     "metadata": {},
     "output_type": "execute_result"
    }
   ],
   "source": [
    "# float(eval(params['slider_mic'])[0])\n",
    "float(params['slider_mic'][0])"
   ]
  },
  {
   "cell_type": "code",
   "execution_count": 21,
   "metadata": {},
   "outputs": [
    {
     "data": {
      "text/plain": [
       "0"
      ]
     },
     "execution_count": 21,
     "metadata": {},
     "output_type": "execute_result"
    }
   ],
   "source": [
    "[1 if str(params.get('option_uhm')) == 'abaixo' else 0][0]"
   ]
  },
  {
   "cell_type": "code",
   "execution_count": 11,
   "metadata": {},
   "outputs": [
    {
     "data": {
      "text/plain": [
       "0"
      ]
     },
     "execution_count": 11,
     "metadata": {},
     "output_type": "execute_result"
    }
   ],
   "source": [
    "[1 if str(params.get('option_res')) == 'acima' else 0][0]"
   ]
  },
  {
   "cell_type": "code",
   "execution_count": 12,
   "metadata": {},
   "outputs": [
    {
     "data": {
      "text/plain": [
       "1"
      ]
     },
     "execution_count": 12,
     "metadata": {},
     "output_type": "execute_result"
    }
   ],
   "source": [
    "[1 if str(params.get('option_res')) == 'abaixo' else 0][0]"
   ]
  },
  {
   "cell_type": "code",
   "execution_count": 13,
   "metadata": {},
   "outputs": [
    {
     "data": {
      "text/plain": [
       "28"
      ]
     },
     "execution_count": 13,
     "metadata": {},
     "output_type": "execute_result"
    }
   ],
   "source": [
    "int(params['slider_bales_before'])"
   ]
  },
  {
   "cell_type": "code",
   "execution_count": null,
   "metadata": {},
   "outputs": [],
   "source": []
  }
 ],
 "metadata": {
  "kernelspec": {
   "display_name": "env_trading_app3",
   "language": "python",
   "name": "python3"
  },
  "language_info": {
   "codemirror_mode": {
    "name": "ipython",
    "version": 3
   },
   "file_extension": ".py",
   "mimetype": "text/x-python",
   "name": "python",
   "nbconvert_exporter": "python",
   "pygments_lexer": "ipython3",
   "version": "3.10.7"
  }
 },
 "nbformat": 4,
 "nbformat_minor": 2
}
